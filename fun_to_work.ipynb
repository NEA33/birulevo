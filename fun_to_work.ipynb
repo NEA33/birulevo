{
 "cells": [
  {
   "cell_type": "code",
   "execution_count": 2,
   "metadata": {},
   "outputs": [],
   "source": [
    "%run use_db_birulevo.ipynb"
   ]
  },
  {
   "cell_type": "markdown",
   "metadata": {},
   "source": [
    "1. Удаление знаков препинания\n",
    "2. Удаление хештегов, ссылок\n",
    "3. Стемминг (mystem)"
   ]
  },
  {
   "cell_type": "code",
   "execution_count": 7,
   "metadata": {},
   "outputs": [],
   "source": [
    "import re\n",
    "from pymystem3 import Mystem\n",
    "mystem = Mystem()"
   ]
  },
  {
   "cell_type": "code",
   "execution_count": 8,
   "metadata": {},
   "outputs": [],
   "source": [
    "def preprocess_text(txt, punctuation = True, hashtag = True, url = True, stem = True):\n",
    "    text = txt\n",
    "    if url:\n",
    "        text = re.sub('(http\\S+)|(www\\S+)|(pic\\S+)', ' ', text)\n",
    "    if hashtag:\n",
    "        text = re.sub('#\\w+', ' ', text)\n",
    "    if punctuation:\n",
    "        text = re.sub('[^a-zA-Zа-яА-Я1-9@_#]+', ' ', text)\n",
    "    if stem:\n",
    "        lemmas = mystem.lemmatize(text)\n",
    "        text = ''.join(lemmas)\n",
    "    return (text.strip())"
   ]
  },
  {
   "cell_type": "markdown",
   "metadata": {},
   "source": [
    "Извлечение из базы данных в текстовый файл сообщений пользователей и меток"
   ]
  },
  {
   "cell_type": "code",
   "execution_count": 2,
   "metadata": {},
   "outputs": [],
   "source": [
    "def mess_to_txt (user, out_file, punctuation = False, hashtag = False, \n",
    "                 url = False, stem = False, errors = False):\n",
    "    start = time.time()\n",
    "    query = 'select count(*) from author'\n",
    "    count = query_with_fetchone(user, query)\n",
    "    marks = []\n",
    "    #for i in range(1, count[0][0] + 1):\n",
    "        #query = 'select mark from authors where id = ' + str(i)\n",
    "        #marks.append(int(query_with_fetchone(user, query)[0][0]))\n",
    "    try:\n",
    "        with open(out_file, 'w') as f:\n",
    "             for i in range(1, count[0][0] + 1):\n",
    "                    query = 'select mess from messages where author = ' + str(i)\n",
    "                    list_mess = query_with_fetchone(user, query)\n",
    "                    for mess in list_mess:\n",
    "                        st = mess[0]\n",
    "                        #if errors:\n",
    "                            # bla-bla, use pyaspeller\n",
    "                        if (punctuation or hashtag or url or stem):\n",
    "                            st = preprocess_text(st, punctuation, hashtag, url, stem)\n",
    "                        else:\n",
    "                            st = re.sub('\\n', ' ', st)\n",
    "                        if (st == ''):\n",
    "                            continue\n",
    "                        f.write(st + ' ')\n",
    "                    f.write('\\n')\n",
    "    except IOError:\n",
    "        print(\"An IOError has occurred!\")\n",
    "    print (time.time() - start)\n",
    "    return marks"
   ]
  },
  {
   "cell_type": "markdown",
   "metadata": {},
   "source": [
    "создание модели векторов word2vec из текстового файла"
   ]
  },
  {
   "cell_type": "code",
   "execution_count": 10,
   "metadata": {},
   "outputs": [],
   "source": [
    "import logging\n",
    "import multiprocessing\n",
    "import gensim\n",
    "logging.basicConfig(format='%(asctime)s : %(levelname)s : %(message)s', level=logging.INFO)\n",
    "from gensim.models import word2vec\n",
    "from gensim.models import Word2Vec\n",
    "import time"
   ]
  },
  {
   "cell_type": "code",
   "execution_count": 13,
   "metadata": {},
   "outputs": [],
   "source": [
    "def create_model_w2v (file_txt, save_model, size = 200, window = 5, min_count = 3):\n",
    "    start = time.time()\n",
    "    data = gensim.models.word2vec.LineSentence(file_txt)\n",
    "    model = Word2Vec(data, size = size, window = window, min_count = min_count, \n",
    "                     workers=multiprocessing.cpu_count())\n",
    "    end = time.time()\n",
    "    model.save(save_model)\n",
    "    return (end - start)"
   ]
  },
  {
   "cell_type": "code",
   "execution_count": 14,
   "metadata": {},
   "outputs": [],
   "source": [
    "def load_model_w2v(name_model):\n",
    "    return Word2Vec.load(name_model)"
   ]
  },
  {
   "cell_type": "code",
   "execution_count": 15,
   "metadata": {},
   "outputs": [],
   "source": [
    "import numpy as np"
   ]
  },
  {
   "cell_type": "code",
   "execution_count": 30,
   "metadata": {},
   "outputs": [],
   "source": [
    "def create_feature_vec (list_words, model, num_features):\n",
    "    feature_vec = np.zeros((num_features), dtype = \"float32\")\n",
    "    count_words = 0\n",
    "    set_words_model = set(model.wv.index2word)\n",
    "    for word in list_words:\n",
    "        if word in set_words_model:\n",
    "            count_words += 1\n",
    "            feature_vec = np.add(feature_vec, model.wv[word])\n",
    "    feature_vec = np.divide(feature_vec, count_words)\n",
    "    return (feature_vec)"
   ]
  },
  {
   "cell_type": "code",
   "execution_count": 76,
   "metadata": {},
   "outputs": [],
   "source": [
    "def text_to_words(text):\n",
    "    st = re.sub('[^a-zA-Zа-яА-Я1-9@_#]+', ' ', text)\n",
    "    list_words = st.split()\n",
    "    for word in list_words:\n",
    "        word = word.strip()\n",
    "    return (list_words)"
   ]
  },
  {
   "cell_type": "code",
   "execution_count": 1,
   "metadata": {},
   "outputs": [],
   "source": [
    "def texts_to_vec (file_txt, model):\n",
    "    start = time.time()\n",
    "    num_features = model.wv.vector_size\n",
    "    text_vec = []\n",
    "    try:\n",
    "        with open(file_txt, 'r') as f:\n",
    "            st = f.readline()\n",
    "            while (st != \"\"):\n",
    "                list_words = text_to_words(st)\n",
    "                text_vec.append(create_feature_vec(list_words, model, num_features))\n",
    "                st = f.readline()\n",
    "    except IOError:\n",
    "        print(\"An IOError has occurred!\")\n",
    "    print(time.time() - start)\n",
    "    return np.array(text_vec, dtype = \"float32\")"
   ]
  }
 ],
 "metadata": {
  "kernelspec": {
   "display_name": "Python 3",
   "language": "python",
   "name": "python3"
  },
  "language_info": {
   "codemirror_mode": {
    "name": "ipython",
    "version": 3
   },
   "file_extension": ".py",
   "mimetype": "text/x-python",
   "name": "python",
   "nbconvert_exporter": "python",
   "pygments_lexer": "ipython3",
   "version": "3.6.9"
  }
 },
 "nbformat": 4,
 "nbformat_minor": 4
}
