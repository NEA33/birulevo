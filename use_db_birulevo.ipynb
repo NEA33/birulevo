{
 "cells": [
  {
   "cell_type": "code",
   "execution_count": 2,
   "metadata": {},
   "outputs": [],
   "source": [
    "from __future__ import print_function\n",
    "import mysql.connector\n",
    "from mysql.connector import errorcode\n",
    "from mysql.connector import MySQLConnection, Error"
   ]
  },
  {
   "cell_type": "markdown",
   "metadata": {},
   "source": [
    "user = tuple(user_name, password, name_database)"
   ]
  },
  {
   "cell_type": "code",
   "execution_count": 3,
   "metadata": {},
   "outputs": [],
   "source": [
    "def connect(user, TABLES):\n",
    "    cnx = mysql.connector.connect(user = user[0], password = user[1], database = user[2])\n",
    "    cursor = cnx.cursor() \n",
    "    for name, ddl in TABLES.items():\n",
    "        try:\n",
    "            print(\"Creating/drop table {}: \".format(name), end='')\n",
    "            cursor.execute(ddl)\n",
    "        except mysql.connector.Error as err:\n",
    "            if err.errno == errorcode.ER_TABLE_EXISTS_ERROR:\n",
    "                print(\"already exists.\")\n",
    "            else:\n",
    "                print(err.msg)\n",
    "        else:\n",
    "            print(\"OK\")\n",
    "    cursor.close()\n",
    "    cnx.close()"
   ]
  },
  {
   "cell_type": "code",
   "execution_count": 4,
   "metadata": {},
   "outputs": [],
   "source": [
    "def create_tables(user):\n",
    "    TABLES = {}\n",
    "    TABLES['author'] = (\"CREATE TABLE `author` (\"\n",
    "                        \"`id` INT PRIMARY KEY,\"\n",
    "                        \"`name` VARCHAR(50) NOT NULL,\"\n",
    "                        \"`link` VARCHAR(100) NOT NULL,\"\n",
    "                        \"`count` INT NOT NULL,\"\n",
    "                        \"`tag` TEXT NOT NULL\"\n",
    "                        \")\")\n",
    "    TABLES['messages'] = (\"CREATE TABLE `messages` (\"\n",
    "                          \"`id` INT PRIMARY KEY,\"\n",
    "                          \"`author` INT NOT NULL,\"\n",
    "                          \"`time` TIME NOT NULL,\"\n",
    "                          \"`date` DATE NOT NULL,\"\n",
    "                          \"`mess` VARCHAR(280) NOT NULL\"\n",
    "                          \")\")\n",
    "    connect(user, TABLES)"
   ]
  },
  {
   "cell_type": "code",
   "execution_count": 5,
   "metadata": {},
   "outputs": [],
   "source": [
    "def drop_tables(user):\n",
    "    TABLES = {}\n",
    "    TABLES['author'] = (\"DROP TABLE `author`\")\n",
    "    TABLES['messages'] = (\"DROP TABLE `messages`\")\n",
    "    connect(user, TABLES)"
   ]
  },
  {
   "cell_type": "code",
   "execution_count": 6,
   "metadata": {},
   "outputs": [],
   "source": [
    "#удаление содержимого таблиц\n",
    "def delete_data(table, user):\n",
    "    query = \"DELETE FROM `\" + table + \"`\"\n",
    "    try:\n",
    "        cnx = mysql.connector.connect(user = user[0], password = user[1], database = user[2])\n",
    "        cursor = cnx.cursor()\n",
    "        cursor.execute(query)\n",
    "        cnx.commit()\n",
    "    except Error as error:\n",
    "        print(error)\n",
    "    finally:\n",
    "        cursor.close()\n",
    "        cnx.close()"
   ]
  },
  {
   "cell_type": "markdown",
   "metadata": {},
   "source": [
    "info_author = tuple(num_author, name_author, link, count, tag)"
   ]
  },
  {
   "cell_type": "code",
   "execution_count": 7,
   "metadata": {},
   "outputs": [],
   "source": [
    "def new_author(user, info_author):\n",
    "    try:\n",
    "        cnx = mysql.connector.connect(user = user[0], password = user[1], database = user[2])\n",
    "        cursor = cnx.cursor()\n",
    "        add_author = (\"INSERT INTO `author`\"\n",
    "                      \"(id, name, link, count, tag)\"\n",
    "                      \"VALUES (%s, %s, %s, %s, %s)\")\n",
    "        cursor.execute(add_author, info_author)\n",
    "        cnx.commit()\n",
    "    except Error as error:\n",
    "        print(error)\n",
    "    finally:\n",
    "        cursor.close()\n",
    "        cnx.close()"
   ]
  },
  {
   "cell_type": "markdown",
   "metadata": {},
   "source": [
    "info_messages = tuple([num], [author], [time], [date], [messages])"
   ]
  },
  {
   "cell_type": "code",
   "execution_count": 8,
   "metadata": {},
   "outputs": [],
   "source": [
    "def new_messages(user, info_messages, count):\n",
    "    try:\n",
    "        cnx = mysql.connector.connect(user = user[0], password = user[1], database = user[2])\n",
    "        cursor = cnx.cursor()\n",
    "        add_message = (\"INSERT INTO `messages`\"\n",
    "                      \"(id, author, time, date, mess)\"\n",
    "                      \"VALUES (%s, %s, %s, %s, %s)\")\n",
    "        for i in range(count):\n",
    "            data_message = (info_messages[0][i], info_messages[1][i], info_messages[2][i],\n",
    "                           info_messages[3][i], info_messages[4][i])\n",
    "            cursor.execute(add_message, data_message)\n",
    "        cnx.commit()\n",
    "    except Error as error:\n",
    "        print(error)\n",
    "    finally:\n",
    "        cursor.close()\n",
    "        cnx.close()"
   ]
  },
  {
   "cell_type": "code",
   "execution_count": 14,
   "metadata": {},
   "outputs": [],
   "source": [
    "def query_with_fetchone(user, query):\n",
    "    try:\n",
    "        cnx = mysql.connector.connect(user = user[0], password = user[1], database = user[2])\n",
    "        cursor = cnx.cursor()\n",
    "        cursor.execute(query)\n",
    "        row = cursor.fetchone()\n",
    "        while row is not None:\n",
    "            print(row)\n",
    "            row = cursor.fetchone()\n",
    "    except Error as error:\n",
    "        print(error)\n",
    "    finally:\n",
    "        cursor.close()\n",
    "        cnx.close()"
   ]
  }
 ],
 "metadata": {
  "kernelspec": {
   "display_name": "Python 3",
   "language": "python",
   "name": "python3"
  },
  "language_info": {
   "codemirror_mode": {
    "name": "ipython",
    "version": 3
   },
   "file_extension": ".py",
   "mimetype": "text/x-python",
   "name": "python",
   "nbconvert_exporter": "python",
   "pygments_lexer": "ipython3",
   "version": "3.6.9"
  }
 },
 "nbformat": 4,
 "nbformat_minor": 4
}
