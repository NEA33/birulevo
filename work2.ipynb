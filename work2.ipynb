{
 "cells": [
  {
   "cell_type": "markdown",
   "metadata": {},
   "source": [
    "Использование данных без знаков препинания, но без приведения к начальной форме\n",
    "\n",
    "Для каждого пользователя есть метка: 1 - положительный, -1 -  отрицательный. Информация о метках содержится в таблице author.\n",
    "\n",
    "Все сообщения пользователя объединить в единый отзыв. Для разметки использовать усредненный вектор."
   ]
  },
  {
   "cell_type": "code",
   "execution_count": 11,
   "metadata": {},
   "outputs": [],
   "source": [
    "%run user_data.ipynb\n",
    "%run fun_to_work.ipynb"
   ]
  },
  {
   "cell_type": "markdown",
   "metadata": {},
   "source": [
    "Параметры"
   ]
  },
  {
   "cell_type": "code",
   "execution_count": 12,
   "metadata": {},
   "outputs": [],
   "source": [
    "file_name = 'work2'\n",
    "w2v_name = 'w2v_w2'\n",
    "punctuation = True\n",
    "hashtag = True\n",
    "url = True\n",
    "stem = False\n",
    "errors = False\n",
    "size = 200\n",
    "window = 5\n",
    "min_count = 3"
   ]
  },
  {
   "cell_type": "code",
   "execution_count": 13,
   "metadata": {},
   "outputs": [
    {
     "name": "stdout",
     "output_type": "stream",
     "text": [
      "99.77504086494446\n"
     ]
    }
   ],
   "source": [
    "marks = mess_to_txt(user, file_name, punctuation, hashtag, url, stem, errors)"
   ]
  },
  {
   "cell_type": "code",
   "execution_count": 14,
   "metadata": {},
   "outputs": [
    {
     "name": "stderr",
     "output_type": "stream",
     "text": [
      "2020-04-29 01:11:26,806 : INFO : collecting all words and their counts\n",
      "2020-04-29 01:11:26,814 : INFO : PROGRESS: at sentence #0, processed 0 words, keeping 0 word types\n",
      "2020-04-29 01:11:26,911 : INFO : collected 23926 word types from a corpus of 106938 raw words and 3614 sentences\n",
      "2020-04-29 01:11:26,912 : INFO : Loading a fresh vocabulary\n",
      "2020-04-29 01:11:26,943 : INFO : effective_min_count=3 retains 5723 unique words (23% of original 23926, drops 18203)\n",
      "2020-04-29 01:11:26,944 : INFO : effective_min_count=3 leaves 84886 word corpus (79% of original 106938, drops 22052)\n",
      "2020-04-29 01:11:26,996 : INFO : deleting the raw counts dictionary of 23926 items\n",
      "2020-04-29 01:11:26,998 : INFO : sample=0.001 downsamples 34 most-common words\n",
      "2020-04-29 01:11:26,999 : INFO : downsampling leaves estimated 72897 word corpus (85.9% of prior 84886)\n",
      "2020-04-29 01:11:27,025 : INFO : estimated required memory for 5723 words and 200 dimensions: 12018300 bytes\n",
      "2020-04-29 01:11:27,026 : INFO : resetting layer weights\n",
      "2020-04-29 01:11:28,782 : INFO : training model with 4 workers on 5723 vocabulary and 200 features, using sg=0 hs=0 sample=0.001 negative=5 window=5\n",
      "2020-04-29 01:11:28,953 : INFO : worker thread finished; awaiting finish of 3 more threads\n",
      "2020-04-29 01:11:28,956 : INFO : worker thread finished; awaiting finish of 2 more threads\n",
      "2020-04-29 01:11:28,968 : INFO : worker thread finished; awaiting finish of 1 more threads\n",
      "2020-04-29 01:11:28,978 : INFO : worker thread finished; awaiting finish of 0 more threads\n",
      "2020-04-29 01:11:28,979 : INFO : EPOCH - 1 : training on 106938 raw words (72766 effective words) took 0.2s, 374438 effective words/s\n",
      "2020-04-29 01:11:29,147 : INFO : worker thread finished; awaiting finish of 3 more threads\n",
      "2020-04-29 01:11:29,151 : INFO : worker thread finished; awaiting finish of 2 more threads\n",
      "2020-04-29 01:11:29,160 : INFO : worker thread finished; awaiting finish of 1 more threads\n",
      "2020-04-29 01:11:29,166 : INFO : worker thread finished; awaiting finish of 0 more threads\n",
      "2020-04-29 01:11:29,167 : INFO : EPOCH - 2 : training on 106938 raw words (72848 effective words) took 0.2s, 404458 effective words/s\n",
      "2020-04-29 01:11:29,335 : INFO : worker thread finished; awaiting finish of 3 more threads\n",
      "2020-04-29 01:11:29,346 : INFO : worker thread finished; awaiting finish of 2 more threads\n",
      "2020-04-29 01:11:29,351 : INFO : worker thread finished; awaiting finish of 1 more threads\n",
      "2020-04-29 01:11:29,356 : INFO : worker thread finished; awaiting finish of 0 more threads\n",
      "2020-04-29 01:11:29,357 : INFO : EPOCH - 3 : training on 106938 raw words (72900 effective words) took 0.2s, 398413 effective words/s\n",
      "2020-04-29 01:11:29,528 : INFO : worker thread finished; awaiting finish of 3 more threads\n",
      "2020-04-29 01:11:29,530 : INFO : worker thread finished; awaiting finish of 2 more threads\n",
      "2020-04-29 01:11:29,532 : INFO : worker thread finished; awaiting finish of 1 more threads\n",
      "2020-04-29 01:11:29,537 : INFO : worker thread finished; awaiting finish of 0 more threads\n",
      "2020-04-29 01:11:29,539 : INFO : EPOCH - 4 : training on 106938 raw words (72877 effective words) took 0.2s, 410163 effective words/s\n",
      "2020-04-29 01:11:29,712 : INFO : worker thread finished; awaiting finish of 3 more threads\n",
      "2020-04-29 01:11:29,714 : INFO : worker thread finished; awaiting finish of 2 more threads\n",
      "2020-04-29 01:11:29,715 : INFO : worker thread finished; awaiting finish of 1 more threads\n",
      "2020-04-29 01:11:29,729 : INFO : worker thread finished; awaiting finish of 0 more threads\n",
      "2020-04-29 01:11:29,731 : INFO : EPOCH - 5 : training on 106938 raw words (72893 effective words) took 0.2s, 387710 effective words/s\n",
      "2020-04-29 01:11:29,732 : INFO : training on a 534690 raw words (364284 effective words) took 0.9s, 383809 effective words/s\n",
      "2020-04-29 01:11:29,734 : INFO : saving Word2Vec object under w2v_w2, separately None\n",
      "2020-04-29 01:11:29,735 : INFO : not storing attribute vectors_norm\n",
      "2020-04-29 01:11:29,737 : INFO : not storing attribute cum_table\n",
      "2020-04-29 01:11:29,869 : INFO : saved w2v_w2\n"
     ]
    },
    {
     "data": {
      "text/plain": [
       "2.9288597106933594"
      ]
     },
     "execution_count": 14,
     "metadata": {},
     "output_type": "execute_result"
    }
   ],
   "source": [
    "create_model_w2v(file_name, w2v_name, size, window, min_count)"
   ]
  },
  {
   "cell_type": "code",
   "execution_count": 15,
   "metadata": {},
   "outputs": [
    {
     "name": "stderr",
     "output_type": "stream",
     "text": [
      "2020-04-29 01:11:34,385 : INFO : loading Word2Vec object from w2v_w2\n",
      "2020-04-29 01:11:34,539 : INFO : loading wv recursively from w2v_w2.wv.* with mmap=None\n",
      "2020-04-29 01:11:34,540 : INFO : setting ignored attribute vectors_norm to None\n",
      "2020-04-29 01:11:34,541 : INFO : loading vocabulary recursively from w2v_w2.vocabulary.* with mmap=None\n",
      "2020-04-29 01:11:34,542 : INFO : loading trainables recursively from w2v_w2.trainables.* with mmap=None\n",
      "2020-04-29 01:11:34,543 : INFO : setting ignored attribute cum_table to None\n",
      "2020-04-29 01:11:34,545 : INFO : loaded w2v_w2\n"
     ]
    }
   ],
   "source": [
    "model = load_model_w2v(w2v_name)"
   ]
  },
  {
   "cell_type": "code",
   "execution_count": 16,
   "metadata": {},
   "outputs": [
    {
     "name": "stderr",
     "output_type": "stream",
     "text": [
      "/usr/local/lib/python3.6/dist-packages/ipykernel_launcher.py:9: RuntimeWarning: invalid value encountered in true_divide\n",
      "  if __name__ == '__main__':\n"
     ]
    },
    {
     "name": "stdout",
     "output_type": "stream",
     "text": [
      "2.0043065547943115\n"
     ]
    }
   ],
   "source": [
    "text_vec = texts_to_vec(file_name, model)"
   ]
  },
  {
   "cell_type": "code",
   "execution_count": 17,
   "metadata": {},
   "outputs": [],
   "source": [
    "new_df = create_data_frame(text_vec, marks)"
   ]
  },
  {
   "cell_type": "code",
   "execution_count": 18,
   "metadata": {},
   "outputs": [
    {
     "name": "stdout",
     "output_type": "stream",
     "text": [
      "time =  58.52220964431763\n",
      "f1 =  0.6304814351272424\n",
      "acc =  0.531578947368421\n",
      "rec =  0.6943553223388306\n",
      "prec =  0.5988166367476712\n",
      "auc =  0.5157779497697039\n"
     ]
    },
    {
     "data": {
      "image/png": "[encoded data removed]",
      "text/plain": [
       "<Figure size 432x288 with 1 Axes>"
      ]
     },
     "metadata": {
      "needs_background": "light"
     },
     "output_type": "display_data"
    }
   ],
   "source": [
    "class_random_forest(new_df, 'marks', 5, 1, 100)"
   ]
  },
  {
   "cell_type": "code",
   "execution_count": null,
   "metadata": {},
   "outputs": [],
   "source": []
  }
 ],
 "metadata": {
  "kernelspec": {
   "display_name": "Python 3",
   "language": "python",
   "name": "python3"
  },
  "language_info": {
   "codemirror_mode": {
    "name": "ipython",
    "version": 3
   },
   "file_extension": ".py",
   "mimetype": "text/x-python",
   "name": "python",
   "nbconvert_exporter": "python",
   "pygments_lexer": "ipython3",
   "version": "3.6.9"
  }
 },
 "nbformat": 4,
 "nbformat_minor": 4
}
