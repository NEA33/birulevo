{
 "cells": [
  {
   "cell_type": "markdown",
   "metadata": {},
   "source": [
    "Использование данных без знаков препинания, но без приведения к начальной форме\n",
    "\n",
    "Для каждого пользователя есть метка: 1 - положительный, -1 -  отрицательный. Информация о метках содержится в таблице author.\n",
    "\n",
    "Все сообщения пользователя объединить в единый отзыв. Для разметки использовать усредненный вектор."
   ]
  },
  {
   "cell_type": "code",
   "execution_count": 6,
   "metadata": {},
   "outputs": [],
   "source": [
    "%run user_data.ipynb\n",
    "%run fun_to_work.ipynb"
   ]
  },
  {
   "cell_type": "markdown",
   "metadata": {},
   "source": [
    "Параметры"
   ]
  },
  {
   "cell_type": "code",
   "execution_count": 4,
   "metadata": {},
   "outputs": [],
   "source": [
    "file_name = 'work2'\n",
    "w2v_name = 'w2v_w2'\n",
    "punctuation = True\n",
    "hashtag = True\n",
    "url = True\n",
    "stem = False\n",
    "errors = False\n",
    "size = 200\n",
    "window = 5\n",
    "min_count = 3"
   ]
  },
  {
   "cell_type": "code",
   "execution_count": 7,
   "metadata": {},
   "outputs": [
    {
     "name": "stdout",
     "output_type": "stream",
     "text": [
      "71.39926171302795\n"
     ]
    },
    {
     "data": {
      "text/plain": [
       "[]"
      ]
     },
     "execution_count": 7,
     "metadata": {},
     "output_type": "execute_result"
    }
   ],
   "source": [
    "mess_to_txt(user, file_name, punctuation, hashtag, url, stem, errors)"
   ]
  },
  {
   "cell_type": "code",
   "execution_count": 8,
   "metadata": {},
   "outputs": [
    {
     "name": "stderr",
     "output_type": "stream",
     "text": [
      "2020-04-26 19:32:06,289 : INFO : collecting all words and their counts\n",
      "2020-04-26 19:32:06,293 : INFO : PROGRESS: at sentence #0, processed 0 words, keeping 0 word types\n",
      "2020-04-26 19:32:06,406 : INFO : collected 23926 word types from a corpus of 106938 raw words and 3614 sentences\n",
      "2020-04-26 19:32:06,408 : INFO : Loading a fresh vocabulary\n",
      "2020-04-26 19:32:06,496 : INFO : effective_min_count=3 retains 5723 unique words (23% of original 23926, drops 18203)\n",
      "2020-04-26 19:32:06,497 : INFO : effective_min_count=3 leaves 84886 word corpus (79% of original 106938, drops 22052)\n",
      "2020-04-26 19:32:06,539 : INFO : deleting the raw counts dictionary of 23926 items\n",
      "2020-04-26 19:32:06,541 : INFO : sample=0.001 downsamples 34 most-common words\n",
      "2020-04-26 19:32:06,542 : INFO : downsampling leaves estimated 72897 word corpus (85.9% of prior 84886)\n",
      "2020-04-26 19:32:06,569 : INFO : estimated required memory for 5723 words and 200 dimensions: 12018300 bytes\n",
      "2020-04-26 19:32:06,570 : INFO : resetting layer weights\n",
      "2020-04-26 19:32:08,162 : INFO : training model with 4 workers on 5723 vocabulary and 200 features, using sg=0 hs=0 sample=0.001 negative=5 window=5\n",
      "2020-04-26 19:32:08,330 : INFO : worker thread finished; awaiting finish of 3 more threads\n",
      "2020-04-26 19:32:08,349 : INFO : worker thread finished; awaiting finish of 2 more threads\n",
      "2020-04-26 19:32:08,356 : INFO : worker thread finished; awaiting finish of 1 more threads\n",
      "2020-04-26 19:32:08,360 : INFO : worker thread finished; awaiting finish of 0 more threads\n",
      "2020-04-26 19:32:08,362 : INFO : EPOCH - 1 : training on 106938 raw words (72766 effective words) took 0.2s, 371215 effective words/s\n",
      "2020-04-26 19:32:08,522 : INFO : worker thread finished; awaiting finish of 3 more threads\n",
      "2020-04-26 19:32:08,523 : INFO : worker thread finished; awaiting finish of 2 more threads\n",
      "2020-04-26 19:32:08,529 : INFO : worker thread finished; awaiting finish of 1 more threads\n",
      "2020-04-26 19:32:08,542 : INFO : worker thread finished; awaiting finish of 0 more threads\n",
      "2020-04-26 19:32:08,544 : INFO : EPOCH - 2 : training on 106938 raw words (72860 effective words) took 0.2s, 415167 effective words/s\n",
      "2020-04-26 19:32:08,707 : INFO : worker thread finished; awaiting finish of 3 more threads\n",
      "2020-04-26 19:32:08,709 : INFO : worker thread finished; awaiting finish of 2 more threads\n",
      "2020-04-26 19:32:08,725 : INFO : worker thread finished; awaiting finish of 1 more threads\n",
      "2020-04-26 19:32:08,731 : INFO : worker thread finished; awaiting finish of 0 more threads\n",
      "2020-04-26 19:32:08,732 : INFO : EPOCH - 3 : training on 106938 raw words (72950 effective words) took 0.2s, 396457 effective words/s\n",
      "2020-04-26 19:32:08,886 : INFO : worker thread finished; awaiting finish of 3 more threads\n",
      "2020-04-26 19:32:08,905 : INFO : worker thread finished; awaiting finish of 2 more threads\n",
      "2020-04-26 19:32:08,908 : INFO : worker thread finished; awaiting finish of 1 more threads\n",
      "2020-04-26 19:32:08,910 : INFO : worker thread finished; awaiting finish of 0 more threads\n",
      "2020-04-26 19:32:08,911 : INFO : EPOCH - 4 : training on 106938 raw words (72963 effective words) took 0.2s, 423001 effective words/s\n",
      "2020-04-26 19:32:09,070 : INFO : worker thread finished; awaiting finish of 3 more threads\n",
      "2020-04-26 19:32:09,073 : INFO : worker thread finished; awaiting finish of 2 more threads\n",
      "2020-04-26 19:32:09,091 : INFO : worker thread finished; awaiting finish of 1 more threads\n",
      "2020-04-26 19:32:09,102 : INFO : worker thread finished; awaiting finish of 0 more threads\n",
      "2020-04-26 19:32:09,104 : INFO : EPOCH - 5 : training on 106938 raw words (72888 effective words) took 0.2s, 385176 effective words/s\n",
      "2020-04-26 19:32:09,104 : INFO : training on a 534690 raw words (364427 effective words) took 0.9s, 387078 effective words/s\n",
      "2020-04-26 19:32:09,105 : INFO : saving Word2Vec object under w2v_w2, separately None\n",
      "2020-04-26 19:32:09,106 : INFO : not storing attribute vectors_norm\n",
      "2020-04-26 19:32:09,107 : INFO : not storing attribute cum_table\n",
      "2020-04-26 19:32:09,224 : INFO : saved w2v_w2\n"
     ]
    },
    {
     "data": {
      "text/plain": [
       "2.8165688514709473"
      ]
     },
     "execution_count": 8,
     "metadata": {},
     "output_type": "execute_result"
    }
   ],
   "source": [
    "create_model_w2v(file_name, w2v_name, size, window, min_count)"
   ]
  },
  {
   "cell_type": "code",
   "execution_count": 9,
   "metadata": {},
   "outputs": [
    {
     "name": "stderr",
     "output_type": "stream",
     "text": [
      "2020-04-26 19:32:37,902 : INFO : loading Word2Vec object from w2v_w2\n",
      "2020-04-26 19:32:37,997 : INFO : loading wv recursively from w2v_w2.wv.* with mmap=None\n",
      "2020-04-26 19:32:37,998 : INFO : setting ignored attribute vectors_norm to None\n",
      "2020-04-26 19:32:37,999 : INFO : loading vocabulary recursively from w2v_w2.vocabulary.* with mmap=None\n",
      "2020-04-26 19:32:38,000 : INFO : loading trainables recursively from w2v_w2.trainables.* with mmap=None\n",
      "2020-04-26 19:32:38,002 : INFO : setting ignored attribute cum_table to None\n",
      "2020-04-26 19:32:38,003 : INFO : loaded w2v_w2\n"
     ]
    }
   ],
   "source": [
    "model = load_model_w2v(w2v_name)"
   ]
  },
  {
   "cell_type": "code",
   "execution_count": 10,
   "metadata": {},
   "outputs": [
    {
     "name": "stderr",
     "output_type": "stream",
     "text": [
      "/usr/local/lib/python3.6/dist-packages/ipykernel_launcher.py:9: RuntimeWarning: invalid value encountered in true_divide\n",
      "  if __name__ == '__main__':\n"
     ]
    },
    {
     "name": "stdout",
     "output_type": "stream",
     "text": [
      "2.0234856605529785\n"
     ]
    }
   ],
   "source": [
    "text_vec = texts_to_vec(file_name, model)"
   ]
  }
 ],
 "metadata": {
  "kernelspec": {
   "display_name": "Python 3",
   "language": "python",
   "name": "python3"
  },
  "language_info": {
   "codemirror_mode": {
    "name": "ipython",
    "version": 3
   },
   "file_extension": ".py",
   "mimetype": "text/x-python",
   "name": "python",
   "nbconvert_exporter": "python",
   "pygments_lexer": "ipython3",
   "version": "3.6.9"
  }
 },
 "nbformat": 4,
 "nbformat_minor": 4
}
