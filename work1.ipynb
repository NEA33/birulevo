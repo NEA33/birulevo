{
 "cells": [
  {
   "cell_type": "markdown",
   "metadata": {},
   "source": [
    "Использование данных без предварительной обработки\n",
    "\n",
    "Для каждого пользователя есть метка: 1 - положительный, -1 -  отрицательный. Информация о метках содержится в таблице author.\n",
    "\n",
    "Все сообщения пользователя объединить в единый отзыв. Для разметки использовать усредненный вектор."
   ]
  },
  {
   "cell_type": "code",
   "execution_count": 194,
   "metadata": {},
   "outputs": [],
   "source": [
    "%run user_data.ipynb\n",
    "%run fun_to_work.ipynb"
   ]
  },
  {
   "cell_type": "markdown",
   "metadata": {},
   "source": [
    "Параметры"
   ]
  },
  {
   "cell_type": "code",
   "execution_count": 195,
   "metadata": {},
   "outputs": [],
   "source": [
    "file_name = 'work1'\n",
    "w2v_name = 'w2v_w1'\n",
    "punctuation = False\n",
    "hashtag = False\n",
    "url = False\n",
    "stem = False\n",
    "errors = False\n",
    "size = 200\n",
    "window = 5\n",
    "min_count = 3"
   ]
  },
  {
   "cell_type": "code",
   "execution_count": 196,
   "metadata": {},
   "outputs": [
    {
     "name": "stdout",
     "output_type": "stream",
     "text": [
      "99.96145677566528\n"
     ]
    }
   ],
   "source": [
    "marks = mess_to_txt(user, file_name)"
   ]
  },
  {
   "cell_type": "code",
   "execution_count": 197,
   "metadata": {},
   "outputs": [
    {
     "name": "stderr",
     "output_type": "stream",
     "text": [
      "2020-04-29 01:07:01,425 : INFO : collecting all words and their counts\n",
      "2020-04-29 01:07:01,428 : INFO : PROGRESS: at sentence #0, processed 0 words, keeping 0 word types\n",
      "2020-04-29 01:07:01,538 : INFO : collected 38554 word types from a corpus of 130041 raw words and 3733 sentences\n",
      "2020-04-29 01:07:01,539 : INFO : Loading a fresh vocabulary\n",
      "2020-04-29 01:07:01,571 : INFO : effective_min_count=3 retains 6165 unique words (15% of original 38554, drops 32389)\n",
      "2020-04-29 01:07:01,572 : INFO : effective_min_count=3 leaves 92429 word corpus (71% of original 130041, drops 37612)\n",
      "2020-04-29 01:07:01,618 : INFO : deleting the raw counts dictionary of 38554 items\n",
      "2020-04-29 01:07:01,620 : INFO : sample=0.001 downsamples 30 most-common words\n",
      "2020-04-29 01:07:01,622 : INFO : downsampling leaves estimated 73466 word corpus (79.5% of prior 92429)\n",
      "2020-04-29 01:07:01,645 : INFO : estimated required memory for 6165 words and 200 dimensions: 12946500 bytes\n",
      "2020-04-29 01:07:01,645 : INFO : resetting layer weights\n",
      "2020-04-29 01:07:03,318 : INFO : training model with 4 workers on 6165 vocabulary and 200 features, using sg=0 hs=0 sample=0.001 negative=5 window=5\n",
      "2020-04-29 01:07:03,486 : INFO : worker thread finished; awaiting finish of 3 more threads\n",
      "2020-04-29 01:07:03,489 : INFO : worker thread finished; awaiting finish of 2 more threads\n",
      "2020-04-29 01:07:03,495 : INFO : worker thread finished; awaiting finish of 1 more threads\n",
      "2020-04-29 01:07:03,507 : INFO : worker thread finished; awaiting finish of 0 more threads\n",
      "2020-04-29 01:07:03,508 : INFO : EPOCH - 1 : training on 130041 raw words (73523 effective words) took 0.2s, 399741 effective words/s\n",
      "2020-04-29 01:07:03,682 : INFO : worker thread finished; awaiting finish of 3 more threads\n",
      "2020-04-29 01:07:03,685 : INFO : worker thread finished; awaiting finish of 2 more threads\n",
      "2020-04-29 01:07:03,687 : INFO : worker thread finished; awaiting finish of 1 more threads\n",
      "2020-04-29 01:07:03,701 : INFO : worker thread finished; awaiting finish of 0 more threads\n",
      "2020-04-29 01:07:03,703 : INFO : EPOCH - 2 : training on 130041 raw words (73485 effective words) took 0.2s, 393873 effective words/s\n",
      "2020-04-29 01:07:03,880 : INFO : worker thread finished; awaiting finish of 3 more threads\n",
      "2020-04-29 01:07:03,883 : INFO : worker thread finished; awaiting finish of 2 more threads\n",
      "2020-04-29 01:07:03,885 : INFO : worker thread finished; awaiting finish of 1 more threads\n",
      "2020-04-29 01:07:03,897 : INFO : worker thread finished; awaiting finish of 0 more threads\n",
      "2020-04-29 01:07:03,898 : INFO : EPOCH - 3 : training on 130041 raw words (73424 effective words) took 0.2s, 386615 effective words/s\n",
      "2020-04-29 01:07:04,063 : INFO : worker thread finished; awaiting finish of 3 more threads\n",
      "2020-04-29 01:07:04,064 : INFO : worker thread finished; awaiting finish of 2 more threads\n",
      "2020-04-29 01:07:04,066 : INFO : worker thread finished; awaiting finish of 1 more threads\n",
      "2020-04-29 01:07:04,078 : INFO : worker thread finished; awaiting finish of 0 more threads\n",
      "2020-04-29 01:07:04,079 : INFO : EPOCH - 4 : training on 130041 raw words (73422 effective words) took 0.2s, 419729 effective words/s\n",
      "2020-04-29 01:07:04,256 : INFO : worker thread finished; awaiting finish of 3 more threads\n",
      "2020-04-29 01:07:04,259 : INFO : worker thread finished; awaiting finish of 2 more threads\n",
      "2020-04-29 01:07:04,261 : INFO : worker thread finished; awaiting finish of 1 more threads\n",
      "2020-04-29 01:07:04,278 : INFO : worker thread finished; awaiting finish of 0 more threads\n",
      "2020-04-29 01:07:04,280 : INFO : EPOCH - 5 : training on 130041 raw words (73528 effective words) took 0.2s, 382371 effective words/s\n",
      "2020-04-29 01:07:04,281 : INFO : training on a 650205 raw words (367382 effective words) took 1.0s, 382044 effective words/s\n",
      "2020-04-29 01:07:04,282 : INFO : saving Word2Vec object under w2v_w1, separately None\n",
      "2020-04-29 01:07:04,283 : INFO : not storing attribute vectors_norm\n",
      "2020-04-29 01:07:04,283 : INFO : not storing attribute cum_table\n",
      "2020-04-29 01:07:04,430 : INFO : saved w2v_w1\n"
     ]
    },
    {
     "data": {
      "text/plain": [
       "2.8568925857543945"
      ]
     },
     "execution_count": 197,
     "metadata": {},
     "output_type": "execute_result"
    }
   ],
   "source": [
    "create_model_w2v(file_name, w2v_name, size, window, min_count)"
   ]
  },
  {
   "cell_type": "code",
   "execution_count": 198,
   "metadata": {},
   "outputs": [
    {
     "name": "stderr",
     "output_type": "stream",
     "text": [
      "2020-04-29 01:07:09,813 : INFO : loading Word2Vec object from w2v_w1\n",
      "2020-04-29 01:07:09,915 : INFO : loading wv recursively from w2v_w1.wv.* with mmap=None\n",
      "2020-04-29 01:07:09,916 : INFO : setting ignored attribute vectors_norm to None\n",
      "2020-04-29 01:07:09,917 : INFO : loading vocabulary recursively from w2v_w1.vocabulary.* with mmap=None\n",
      "2020-04-29 01:07:09,918 : INFO : loading trainables recursively from w2v_w1.trainables.* with mmap=None\n",
      "2020-04-29 01:07:09,919 : INFO : setting ignored attribute cum_table to None\n",
      "2020-04-29 01:07:09,922 : INFO : loaded w2v_w1\n"
     ]
    }
   ],
   "source": [
    "model = load_model_w2v(w2v_name)"
   ]
  },
  {
   "cell_type": "code",
   "execution_count": 199,
   "metadata": {},
   "outputs": [
    {
     "name": "stderr",
     "output_type": "stream",
     "text": [
      "/usr/local/lib/python3.6/dist-packages/ipykernel_launcher.py:9: RuntimeWarning: invalid value encountered in true_divide\n",
      "  if __name__ == '__main__':\n"
     ]
    },
    {
     "name": "stdout",
     "output_type": "stream",
     "text": [
      "2.2066357135772705\n"
     ]
    }
   ],
   "source": [
    "text_vec = texts_to_vec(file_name, model)"
   ]
  },
  {
   "cell_type": "code",
   "execution_count": 200,
   "metadata": {},
   "outputs": [],
   "source": [
    "new_df = create_data_frame(text_vec, marks)"
   ]
  },
  {
   "cell_type": "code",
   "execution_count": 201,
   "metadata": {},
   "outputs": [
    {
     "name": "stdout",
     "output_type": "stream",
     "text": [
      "time =  56.50289273262024\n",
      "f1 =  0.6046042983931182\n",
      "acc =  0.5210526315789473\n",
      "rec =  0.6376524237881059\n",
      "prec =  0.6003296703296703\n",
      "auc =  0.5176285206963619\n"
     ]
    },
    {
     "data": {
      "image/png": "[encoded data removed]",
      "text/plain": [
       "<Figure size 432x288 with 1 Axes>"
      ]
     },
     "metadata": {
      "needs_background": "light"
     },
     "output_type": "display_data"
    }
   ],
   "source": [
    "class_random_forest(new_df, 'marks', 5, 1, 100)"
   ]
  },
  {
   "cell_type": "code",
   "execution_count": null,
   "metadata": {},
   "outputs": [],
   "source": []
  }
 ],
 "metadata": {
  "kernelspec": {
   "display_name": "Python 3",
   "language": "python",
   "name": "python3"
  },
  "language_info": {
   "codemirror_mode": {
    "name": "ipython",
    "version": 3
   },
   "file_extension": ".py",
   "mimetype": "text/x-python",
   "name": "python",
   "nbconvert_exporter": "python",
   "pygments_lexer": "ipython3",
   "version": "3.6.9"
  }
 },
 "nbformat": 4,
 "nbformat_minor": 4
}
