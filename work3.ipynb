{
 "cells": [
  {
   "cell_type": "markdown",
   "metadata": {},
   "source": [
    "Использование данных без знаков препинания, приведение к начальной форме, без исправления ошибок\n",
    "\n",
    "Для каждого пользователя есть метка: 1 - положительный, -1 -  отрицательный. Информация о метках содержится в таблице author.\n",
    "\n",
    "Все сообщения пользователя объединить в единый отзыв. Для разметки использовать усредненный вектор."
   ]
  },
  {
   "cell_type": "code",
   "execution_count": 1,
   "metadata": {},
   "outputs": [
    {
     "name": "stderr",
     "output_type": "stream",
     "text": [
      "unable to import 'smart_open.gcs', disabling that module\n"
     ]
    }
   ],
   "source": [
    "%run user_data.ipynb\n",
    "%run fun_to_work.ipynb"
   ]
  },
  {
   "cell_type": "markdown",
   "metadata": {},
   "source": [
    "Параметры"
   ]
  },
  {
   "cell_type": "code",
   "execution_count": 3,
   "metadata": {},
   "outputs": [],
   "source": [
    "file_name = 'work3'\n",
    "w2v_name = 'w2v_w3'\n",
    "punctuation = True\n",
    "hashtag = True\n",
    "url = True\n",
    "stem = True\n",
    "errors = False\n",
    "size = 200\n",
    "window = 5\n",
    "min_count = 3"
   ]
  },
  {
   "cell_type": "code",
   "execution_count": 4,
   "metadata": {},
   "outputs": [
    {
     "name": "stdout",
     "output_type": "stream",
     "text": [
      "93.2871470451355\n"
     ]
    },
    {
     "data": {
      "text/plain": [
       "[]"
      ]
     },
     "execution_count": 4,
     "metadata": {},
     "output_type": "execute_result"
    }
   ],
   "source": [
    "mess_to_txt(user, file_name, punctuation, hashtag, url, stem, errors)"
   ]
  },
  {
   "cell_type": "code",
   "execution_count": 5,
   "metadata": {},
   "outputs": [
    {
     "name": "stderr",
     "output_type": "stream",
     "text": [
      "2020-04-26 19:42:18,977 : INFO : collecting all words and their counts\n",
      "2020-04-26 19:42:18,980 : INFO : PROGRESS: at sentence #0, processed 0 words, keeping 0 word types\n",
      "2020-04-26 19:42:19,053 : INFO : collected 13050 word types from a corpus of 106938 raw words and 3614 sentences\n",
      "2020-04-26 19:42:19,054 : INFO : Loading a fresh vocabulary\n",
      "2020-04-26 19:42:19,075 : INFO : effective_min_count=3 retains 4153 unique words (31% of original 13050, drops 8897)\n",
      "2020-04-26 19:42:19,078 : INFO : effective_min_count=3 leaves 96023 word corpus (89% of original 106938, drops 10915)\n",
      "2020-04-26 19:42:19,121 : INFO : deleting the raw counts dictionary of 13050 items\n",
      "2020-04-26 19:42:19,123 : INFO : sample=0.001 downsamples 51 most-common words\n",
      "2020-04-26 19:42:19,124 : INFO : downsampling leaves estimated 79533 word corpus (82.8% of prior 96023)\n",
      "2020-04-26 19:42:19,140 : INFO : estimated required memory for 4153 words and 200 dimensions: 8721300 bytes\n",
      "2020-04-26 19:42:19,141 : INFO : resetting layer weights\n",
      "2020-04-26 19:42:20,400 : INFO : training model with 4 workers on 4153 vocabulary and 200 features, using sg=0 hs=0 sample=0.001 negative=5 window=5\n",
      "2020-04-26 19:42:20,554 : INFO : worker thread finished; awaiting finish of 3 more threads\n",
      "2020-04-26 19:42:20,556 : INFO : worker thread finished; awaiting finish of 2 more threads\n",
      "2020-04-26 19:42:20,564 : INFO : worker thread finished; awaiting finish of 1 more threads\n",
      "2020-04-26 19:42:20,572 : INFO : worker thread finished; awaiting finish of 0 more threads\n",
      "2020-04-26 19:42:20,573 : INFO : EPOCH - 1 : training on 106938 raw words (79336 effective words) took 0.2s, 474638 effective words/s\n",
      "2020-04-26 19:42:20,717 : INFO : worker thread finished; awaiting finish of 3 more threads\n",
      "2020-04-26 19:42:20,724 : INFO : worker thread finished; awaiting finish of 2 more threads\n",
      "2020-04-26 19:42:20,739 : INFO : worker thread finished; awaiting finish of 1 more threads\n",
      "2020-04-26 19:42:20,741 : INFO : worker thread finished; awaiting finish of 0 more threads\n",
      "2020-04-26 19:42:20,742 : INFO : EPOCH - 2 : training on 106938 raw words (79496 effective words) took 0.2s, 486126 effective words/s\n",
      "2020-04-26 19:42:20,903 : INFO : worker thread finished; awaiting finish of 3 more threads\n",
      "2020-04-26 19:42:20,907 : INFO : worker thread finished; awaiting finish of 2 more threads\n",
      "2020-04-26 19:42:20,911 : INFO : worker thread finished; awaiting finish of 1 more threads\n",
      "2020-04-26 19:42:20,924 : INFO : worker thread finished; awaiting finish of 0 more threads\n",
      "2020-04-26 19:42:20,925 : INFO : EPOCH - 3 : training on 106938 raw words (79559 effective words) took 0.2s, 444083 effective words/s\n",
      "2020-04-26 19:42:21,076 : INFO : worker thread finished; awaiting finish of 3 more threads\n",
      "2020-04-26 19:42:21,078 : INFO : worker thread finished; awaiting finish of 2 more threads\n",
      "2020-04-26 19:42:21,097 : INFO : worker thread finished; awaiting finish of 1 more threads\n",
      "2020-04-26 19:42:21,099 : INFO : worker thread finished; awaiting finish of 0 more threads\n",
      "2020-04-26 19:42:21,100 : INFO : EPOCH - 4 : training on 106938 raw words (79491 effective words) took 0.2s, 466682 effective words/s\n",
      "2020-04-26 19:42:21,313 : INFO : worker thread finished; awaiting finish of 3 more threads\n",
      "2020-04-26 19:42:21,314 : INFO : worker thread finished; awaiting finish of 2 more threads\n",
      "2020-04-26 19:42:21,329 : INFO : worker thread finished; awaiting finish of 1 more threads\n",
      "2020-04-26 19:42:21,333 : INFO : worker thread finished; awaiting finish of 0 more threads\n",
      "2020-04-26 19:42:21,334 : INFO : EPOCH - 5 : training on 106938 raw words (79512 effective words) took 0.2s, 350438 effective words/s\n",
      "2020-04-26 19:42:21,335 : INFO : training on a 534690 raw words (397394 effective words) took 0.9s, 425561 effective words/s\n",
      "2020-04-26 19:42:21,336 : INFO : saving Word2Vec object under w2v_w3, separately None\n",
      "2020-04-26 19:42:21,338 : INFO : not storing attribute vectors_norm\n",
      "2020-04-26 19:42:21,339 : INFO : not storing attribute cum_table\n",
      "2020-04-26 19:42:21,453 : INFO : saved w2v_w3\n"
     ]
    },
    {
     "data": {
      "text/plain": [
       "2.360126495361328"
      ]
     },
     "execution_count": 5,
     "metadata": {},
     "output_type": "execute_result"
    }
   ],
   "source": [
    "create_model_w2v(file_name, w2v_name, size, window, min_count)"
   ]
  },
  {
   "cell_type": "code",
   "execution_count": 6,
   "metadata": {},
   "outputs": [
    {
     "name": "stderr",
     "output_type": "stream",
     "text": [
      "2020-04-26 19:42:32,697 : INFO : loading Word2Vec object from w2v_w3\n",
      "2020-04-26 19:42:32,771 : INFO : loading wv recursively from w2v_w3.wv.* with mmap=None\n",
      "2020-04-26 19:42:32,772 : INFO : setting ignored attribute vectors_norm to None\n",
      "2020-04-26 19:42:32,773 : INFO : loading vocabulary recursively from w2v_w3.vocabulary.* with mmap=None\n",
      "2020-04-26 19:42:32,774 : INFO : loading trainables recursively from w2v_w3.trainables.* with mmap=None\n",
      "2020-04-26 19:42:32,776 : INFO : setting ignored attribute cum_table to None\n",
      "2020-04-26 19:42:32,779 : INFO : loaded w2v_w3\n"
     ]
    }
   ],
   "source": [
    "model = load_model_w2v(w2v_name)"
   ]
  },
  {
   "cell_type": "code",
   "execution_count": 7,
   "metadata": {},
   "outputs": [
    {
     "name": "stderr",
     "output_type": "stream",
     "text": [
      "/usr/local/lib/python3.6/dist-packages/ipykernel_launcher.py:9: RuntimeWarning: invalid value encountered in true_divide\n",
      "  if __name__ == '__main__':\n"
     ]
    },
    {
     "name": "stdout",
     "output_type": "stream",
     "text": [
      "1.2942521572113037\n"
     ]
    }
   ],
   "source": [
    "text_vec = texts_to_vec(file_name, model)"
   ]
  }
 ],
 "metadata": {
  "kernelspec": {
   "display_name": "Python 3",
   "language": "python",
   "name": "python3"
  },
  "language_info": {
   "codemirror_mode": {
    "name": "ipython",
    "version": 3
   },
   "file_extension": ".py",
   "mimetype": "text/x-python",
   "name": "python",
   "nbconvert_exporter": "python",
   "pygments_lexer": "ipython3",
   "version": "3.6.9"
  }
 },
 "nbformat": 4,
 "nbformat_minor": 4
}
