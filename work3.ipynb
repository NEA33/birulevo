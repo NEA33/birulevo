{
 "cells": [
  {
   "cell_type": "markdown",
   "metadata": {},
   "source": [
    "Использование данных без знаков препинания, приведение к начальной форме, без исправления ошибок\n",
    "\n",
    "Для каждого пользователя есть метка: 1 - положительный, -1 -  отрицательный. Информация о метках содержится в таблице author.\n",
    "\n",
    "Все сообщения пользователя объединить в единый отзыв. Для разметки использовать усредненный вектор."
   ]
  },
  {
   "cell_type": "code",
   "execution_count": 1,
   "metadata": {},
   "outputs": [
    {
     "name": "stderr",
     "output_type": "stream",
     "text": [
      "unable to import 'smart_open.gcs', disabling that module\n"
     ]
    }
   ],
   "source": [
    "%run user_data.ipynb\n",
    "%run fun_to_work.ipynb"
   ]
  },
  {
   "cell_type": "markdown",
   "metadata": {},
   "source": [
    "Параметры"
   ]
  },
  {
   "cell_type": "code",
   "execution_count": 2,
   "metadata": {},
   "outputs": [],
   "source": [
    "file_name = 'work3'\n",
    "w2v_name = 'w2v_w3'\n",
    "punctuation = True\n",
    "hashtag = True\n",
    "url = True\n",
    "stem = True\n",
    "errors = False\n",
    "size = 200\n",
    "window = 5\n",
    "min_count = 3"
   ]
  },
  {
   "cell_type": "code",
   "execution_count": 3,
   "metadata": {},
   "outputs": [
    {
     "name": "stdout",
     "output_type": "stream",
     "text": [
      "123.39938807487488\n"
     ]
    }
   ],
   "source": [
    "marks = mess_to_txt(user, file_name, punctuation, hashtag, url, stem, errors)"
   ]
  },
  {
   "cell_type": "code",
   "execution_count": 4,
   "metadata": {},
   "outputs": [
    {
     "name": "stderr",
     "output_type": "stream",
     "text": [
      "2020-04-29 01:17:39,563 : INFO : collecting all words and their counts\n",
      "2020-04-29 01:17:39,566 : INFO : PROGRESS: at sentence #0, processed 0 words, keeping 0 word types\n",
      "2020-04-29 01:17:39,646 : INFO : collected 13050 word types from a corpus of 106938 raw words and 3614 sentences\n",
      "2020-04-29 01:17:39,647 : INFO : Loading a fresh vocabulary\n",
      "2020-04-29 01:17:39,667 : INFO : effective_min_count=3 retains 4153 unique words (31% of original 13050, drops 8897)\n",
      "2020-04-29 01:17:39,668 : INFO : effective_min_count=3 leaves 96023 word corpus (89% of original 106938, drops 10915)\n",
      "2020-04-29 01:17:39,713 : INFO : deleting the raw counts dictionary of 13050 items\n",
      "2020-04-29 01:17:39,715 : INFO : sample=0.001 downsamples 51 most-common words\n",
      "2020-04-29 01:17:39,716 : INFO : downsampling leaves estimated 79533 word corpus (82.8% of prior 96023)\n",
      "2020-04-29 01:17:39,761 : INFO : estimated required memory for 4153 words and 200 dimensions: 8721300 bytes\n",
      "2020-04-29 01:17:39,763 : INFO : resetting layer weights\n",
      "2020-04-29 01:17:40,996 : INFO : training model with 4 workers on 4153 vocabulary and 200 features, using sg=0 hs=0 sample=0.001 negative=5 window=5\n",
      "2020-04-29 01:17:41,263 : INFO : worker thread finished; awaiting finish of 3 more threads\n",
      "2020-04-29 01:17:41,266 : INFO : worker thread finished; awaiting finish of 2 more threads\n",
      "2020-04-29 01:17:41,272 : INFO : worker thread finished; awaiting finish of 1 more threads\n",
      "2020-04-29 01:17:41,420 : INFO : worker thread finished; awaiting finish of 0 more threads\n",
      "2020-04-29 01:17:41,422 : INFO : EPOCH - 1 : training on 106938 raw words (79469 effective words) took 0.4s, 200499 effective words/s\n",
      "2020-04-29 01:17:41,598 : INFO : worker thread finished; awaiting finish of 3 more threads\n",
      "2020-04-29 01:17:41,600 : INFO : worker thread finished; awaiting finish of 2 more threads\n",
      "2020-04-29 01:17:41,616 : INFO : worker thread finished; awaiting finish of 1 more threads\n",
      "2020-04-29 01:17:41,622 : INFO : worker thread finished; awaiting finish of 0 more threads\n",
      "2020-04-29 01:17:41,623 : INFO : EPOCH - 2 : training on 106938 raw words (79638 effective words) took 0.2s, 414687 effective words/s\n",
      "2020-04-29 01:17:41,783 : INFO : worker thread finished; awaiting finish of 3 more threads\n",
      "2020-04-29 01:17:41,785 : INFO : worker thread finished; awaiting finish of 2 more threads\n",
      "2020-04-29 01:17:41,800 : INFO : worker thread finished; awaiting finish of 1 more threads\n",
      "2020-04-29 01:17:41,802 : INFO : worker thread finished; awaiting finish of 0 more threads\n",
      "2020-04-29 01:17:41,803 : INFO : EPOCH - 3 : training on 106938 raw words (79446 effective words) took 0.2s, 463454 effective words/s\n",
      "2020-04-29 01:17:41,996 : INFO : worker thread finished; awaiting finish of 3 more threads\n",
      "2020-04-29 01:17:42,000 : INFO : worker thread finished; awaiting finish of 2 more threads\n",
      "2020-04-29 01:17:42,008 : INFO : worker thread finished; awaiting finish of 1 more threads\n",
      "2020-04-29 01:17:42,009 : INFO : worker thread finished; awaiting finish of 0 more threads\n",
      "2020-04-29 01:17:42,010 : INFO : EPOCH - 4 : training on 106938 raw words (79497 effective words) took 0.2s, 404650 effective words/s\n",
      "2020-04-29 01:17:42,164 : INFO : worker thread finished; awaiting finish of 3 more threads\n",
      "2020-04-29 01:17:42,170 : INFO : worker thread finished; awaiting finish of 2 more threads\n",
      "2020-04-29 01:17:42,190 : INFO : worker thread finished; awaiting finish of 1 more threads\n",
      "2020-04-29 01:17:42,191 : INFO : worker thread finished; awaiting finish of 0 more threads\n",
      "2020-04-29 01:17:42,192 : INFO : EPOCH - 5 : training on 106938 raw words (79538 effective words) took 0.2s, 444550 effective words/s\n",
      "2020-04-29 01:17:42,193 : INFO : training on a 534690 raw words (397588 effective words) took 1.2s, 332407 effective words/s\n",
      "2020-04-29 01:17:42,215 : INFO : saving Word2Vec object under w2v_w3, separately None\n",
      "2020-04-29 01:17:42,232 : INFO : not storing attribute vectors_norm\n",
      "2020-04-29 01:17:42,234 : INFO : not storing attribute cum_table\n",
      "2020-04-29 01:17:42,343 : INFO : saved w2v_w3\n"
     ]
    },
    {
     "data": {
      "text/plain": [
       "3.0011699199676514"
      ]
     },
     "execution_count": 4,
     "metadata": {},
     "output_type": "execute_result"
    }
   ],
   "source": [
    "create_model_w2v(file_name, w2v_name, size, window, min_count)"
   ]
  },
  {
   "cell_type": "code",
   "execution_count": 5,
   "metadata": {},
   "outputs": [
    {
     "name": "stderr",
     "output_type": "stream",
     "text": [
      "2020-04-29 01:17:46,996 : INFO : loading Word2Vec object from w2v_w3\n",
      "2020-04-29 01:17:47,122 : INFO : loading wv recursively from w2v_w3.wv.* with mmap=None\n",
      "2020-04-29 01:17:47,123 : INFO : setting ignored attribute vectors_norm to None\n",
      "2020-04-29 01:17:47,124 : INFO : loading vocabulary recursively from w2v_w3.vocabulary.* with mmap=None\n",
      "2020-04-29 01:17:47,125 : INFO : loading trainables recursively from w2v_w3.trainables.* with mmap=None\n",
      "2020-04-29 01:17:47,125 : INFO : setting ignored attribute cum_table to None\n",
      "2020-04-29 01:17:47,128 : INFO : loaded w2v_w3\n"
     ]
    }
   ],
   "source": [
    "model = load_model_w2v(w2v_name)"
   ]
  },
  {
   "cell_type": "code",
   "execution_count": 6,
   "metadata": {},
   "outputs": [
    {
     "name": "stderr",
     "output_type": "stream",
     "text": [
      "/usr/local/lib/python3.6/dist-packages/ipykernel_launcher.py:9: RuntimeWarning: invalid value encountered in true_divide\n",
      "  if __name__ == '__main__':\n"
     ]
    },
    {
     "name": "stdout",
     "output_type": "stream",
     "text": [
      "1.3843138217926025\n"
     ]
    }
   ],
   "source": [
    "text_vec = texts_to_vec(file_name, model)"
   ]
  },
  {
   "cell_type": "code",
   "execution_count": 7,
   "metadata": {},
   "outputs": [],
   "source": [
    "new_df = create_data_frame(text_vec, marks)"
   ]
  },
  {
   "cell_type": "code",
   "execution_count": 8,
   "metadata": {},
   "outputs": [
    {
     "name": "stdout",
     "output_type": "stream",
     "text": [
      "time =  59.51257109642029\n",
      "f1 =  0.655504094179773\n",
      "acc =  0.5578947368421053\n",
      "rec =  0.7369177911044479\n",
      "prec =  0.5994498477257098\n",
      "auc =  0.5187474958408241\n"
     ]
    },
    {
     "data": {
      "image/png": "[encoded data removed]",
      "text/plain": [
       "<Figure size 432x288 with 1 Axes>"
      ]
     },
     "metadata": {
      "needs_background": "light"
     },
     "output_type": "display_data"
    }
   ],
   "source": [
    "class_random_forest(new_df, 'marks', 5, 1, 100)"
   ]
  },
  {
   "cell_type": "code",
   "execution_count": null,
   "metadata": {},
   "outputs": [],
   "source": []
  }
 ],
 "metadata": {
  "kernelspec": {
   "display_name": "Python 3",
   "language": "python",
   "name": "python3"
  },
  "language_info": {
   "codemirror_mode": {
    "name": "ipython",
    "version": 3
   },
   "file_extension": ".py",
   "mimetype": "text/x-python",
   "name": "python",
   "nbconvert_exporter": "python",
   "pygments_lexer": "ipython3",
   "version": "3.6.9"
  }
 },
 "nbformat": 4,
 "nbformat_minor": 4
}
