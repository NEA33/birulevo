{
 "cells": [
  {
   "cell_type": "code",
   "execution_count": 4,
   "metadata": {},
   "outputs": [],
   "source": [
    "import datetime"
   ]
  },
  {
   "cell_type": "code",
   "execution_count": 19,
   "metadata": {},
   "outputs": [],
   "source": [
    "%run use_db_birulevo.ipynb"
   ]
  },
  {
   "cell_type": "code",
   "execution_count": 2,
   "metadata": {},
   "outputs": [],
   "source": [
    "def time_format(st_time):\n",
    "    list_time = st_time.split(':')\n",
    "    return datetime.time(int(list_time[0]), int(list_time[1]))"
   ]
  },
  {
   "cell_type": "code",
   "execution_count": 3,
   "metadata": {},
   "outputs": [],
   "source": [
    "def date_format(st_date, month):\n",
    "    list_date = st_date.split()\n",
    "    return datetime.date(int(list_date[2]), month[list_date[1]], int(list_date[0]))"
   ]
  },
  {
   "cell_type": "markdown",
   "metadata": {},
   "source": [
    "user = tuple(user_name, password, name_database)\n",
    "txt - name txt document"
   ]
  },
  {
   "cell_type": "code",
   "execution_count": 28,
   "metadata": {},
   "outputs": [],
   "source": [
    "def txt_to_db(user, txt):\n",
    "    error_messages = []\n",
    "    error_authors = []\n",
    "    error_text = []\n",
    "    try:\n",
    "        with open(txt, 'r') as f:\n",
    "            st = \"\"\n",
    "            for line in f:\n",
    "                st += line\n",
    "                if (line == '--------------\\n'):\n",
    "                    st = \"\"\n",
    "                    break\n",
    "            #i = 0\n",
    "            month = {'янв.': 1, 'февр.': 2, 'март': 3, 'апр.': 4, 'май': 5, 'июнь': 6, 'июль': 7, \n",
    "                     'авг': 8, 'сент.': 9, 'окт.': 10, 'нояб.': 11, 'дек.': 12}\n",
    "            for line in f:\n",
    "                if (line == '--------------\\n'or line is None):\n",
    "                    list_txt = st.split('Номер:')[1].split('Имя:')\n",
    "                    num_author = list_txt[0].strip()\n",
    "                    list_txt = list_txt[1].split('Ссылка:')\n",
    "                    name_author = list_txt[0].strip()\n",
    "                    list_txt = list_txt[1].split('Кол-во постов:')\n",
    "                    link = list_txt[0].strip()\n",
    "                    list_txt = list_txt[1].split('Твиты:')\n",
    "                    count = list_txt[0].strip()\n",
    "                    list_txt = list_txt[1].split('Тэги:')\n",
    "                    texts = list_txt[0].strip()\n",
    "                    tag = list_txt[1].strip()\n",
    "\n",
    "                    for text in texts.split('\\n'):\n",
    "                        list_txt = text.strip().split('\\t')\n",
    "                        if (len(list_txt) < 2):\n",
    "                            error_text.append(text) \n",
    "                            continue\n",
    "                        num = list_txt[0].strip()\n",
    "                        time = time_format(list_txt[1].split('-')[0].strip())\n",
    "                        date = date_format(list_txt[1].split('-')[1].strip(), month)\n",
    "                        txt = list_txt[2].strip()\n",
    "                        new_message(user, (num, num_author, time, date, txt), error_messages)\n",
    "\n",
    "                    new_author(user, (num_author, name_author, link, count, tag), error_authors)\n",
    "                    st = \"\"\n",
    "                else:\n",
    "                    st += line\n",
    "                \n",
    "    except IOError:\n",
    "        print(\"An IOError has occurred!\")\n",
    "    finally:\n",
    "        print(\"error authors:\")\n",
    "        print(error_authors)\n",
    "        print(\"error_messages:\")\n",
    "        print(error_messages)\n",
    "        print(\"error text\")\n",
    "        print(error_text)"
   ]
  }
 ],
 "metadata": {
  "kernelspec": {
   "display_name": "Python 3",
   "language": "python",
   "name": "python3"
  },
  "language_info": {
   "codemirror_mode": {
    "name": "ipython",
    "version": 3
   },
   "file_extension": ".py",
   "mimetype": "text/x-python",
   "name": "python",
   "nbconvert_exporter": "python",
   "pygments_lexer": "ipython3",
   "version": "3.6.9"
  }
 },
 "nbformat": 4,
 "nbformat_minor": 4
}
